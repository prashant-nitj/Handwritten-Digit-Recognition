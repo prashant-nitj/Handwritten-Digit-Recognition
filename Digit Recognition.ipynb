{
  "nbformat": 4,
  "nbformat_minor": 0,
  "metadata": {
    "colab": {
      "name": "Untitled4.ipynb",
      "provenance": []
    },
    "kernelspec": {
      "name": "python3",
      "display_name": "Python 3"
    },
    "language_info": {
      "name": "python"
    }
  },
  "cells": [
    {
      "cell_type": "code",
      "execution_count": 1,
      "metadata": {
        "colab": {
          "base_uri": "https://localhost:8080/"
        },
        "id": "PuXO74M49JA5",
        "outputId": "a5606222-838d-48c0-b777-ee889b0a1dfc"
      },
      "outputs": [
        {
          "output_type": "stream",
          "name": "stdout",
          "text": [
            "Downloading data from https://storage.googleapis.com/tensorflow/tf-keras-datasets/mnist.npz\n",
            "11493376/11490434 [==============================] - 0s 0us/step\n",
            "11501568/11490434 [==============================] - 0s 0us/step\n",
            "Train: X=(60000, 28, 28), Y=(60000,)\n",
            "Test: X=(10000, 28, 28), Y=(10000,)\n"
          ]
        }
      ],
      "source": [
        "import numpy as np\n",
        "import h5py\n",
        "from keras.datasets import mnist #dataset of 60K small square 60*60pixel grayscale images of handwritten digits\n",
        "from matplotlib import pyplot as plt\n",
        "#loading the dataset\n",
        "\n",
        "(trainx,trainy),(testx,testy)=mnist.load_data() #dataset available at amazonaws.com\n",
        "print('Train: X=%s, Y=%s' %(trainx.shape,trainy.shape))\n",
        "print('Test: X=%s, Y=%s' %(testx.shape,testy.shape))"
      ]
    },
    {
      "cell_type": "code",
      "source": [
        "#plotting the first few images\n",
        "for i in range(9):\n",
        "    plt.subplot(331+i)\n",
        "    plt.imshow(trainx[i],cmap=plt.get_cmap('gray'))  #subplot(nrows, ncols, index, **kwargs)\n",
        "                                                     #subplot(pos, **kwargs)\n",
        "plt.show()"
      ],
      "metadata": {
        "colab": {
          "base_uri": "https://localhost:8080/",
          "height": 268
        },
        "id": "zy6uLh3E9Uuk",
        "outputId": "987265c3-5733-471a-ea96-648c66b0d856"
      },
      "execution_count": 2,
      "outputs": [
        {
          "output_type": "display_data",
          "data": {
            "text/plain": [
              "<Figure size 432x288 with 9 Axes>"
            ],
            "image/png": "[encoded data removed]"
          },
          "metadata": {
            "needs_background": "light"
          }
        }
      ]
    },
    {
      "cell_type": "code",
      "source": [
        "#importing other required tools\n",
        "from tensorflow.keras.utils import to_categorical\n",
        "from keras.models import Sequential\n",
        "from keras.layers import Conv2D\n",
        "from keras.layers import MaxPooling2D\n",
        "from keras.layers import Dense\n",
        "from keras.layers import Flatten\n",
        "from tensorflow.keras.optimizers import SGD\n",
        "from keras.preprocessing.image import load_img\n",
        "from keras.preprocessing.image import img_to_array\n",
        "from keras.models import load_model\n",
        "from sklearn.model_selection import KFold"
      ],
      "metadata": {
        "id": "-VWtDaYC9ag0"
      },
      "execution_count": 3,
      "outputs": []
    },
    {
      "cell_type": "code",
      "source": [
        "\"\"\" 5 useful aspects of a machine learning model:\n",
        "1.Loading of the dataset\n",
        "2.Preparation of the dataset\n",
        "3.Definition of the model\n",
        "4.Evaluation of the model\n",
        "5.Presentation of results\n",
        "\"\"\""
      ],
      "metadata": {
        "colab": {
          "base_uri": "https://localhost:8080/",
          "height": 54
        },
        "id": "9Ubo3HXr9e18",
        "outputId": "5274491e-7d25-4a7f-eced-5a93c60e7a40"
      },
      "execution_count": 4,
      "outputs": [
        {
          "output_type": "execute_result",
          "data": {
            "text/plain": [
              "' 5 useful aspects of a machine learning model:\\n1.Loading of the dataset\\n2.Preparation of the dataset\\n3.Definition of the model\\n4.Evaluation of the model\\n5.Presentation of results\\n'"
            ],
            "application/vnd.google.colaboratory.intrinsic+json": {
              "type": "string"
            }
          },
          "metadata": {},
          "execution_count": 4
        }
      ]
    },
    {
      "cell_type": "code",
      "source": [
        "(trainx,trainy),(testx,testy)=mnist.load_data()\n",
        "trainx=trainx.reshape((trainx.shape[0],28,28,1))\n",
        "testx=testx.reshape((testx.shape[0],28,28,1))"
      ],
      "metadata": {
        "id": "SKRyKBWK9kud"
      },
      "execution_count": 5,
      "outputs": []
    },
    {
      "cell_type": "code",
      "source": [
        "#one_hot encoding of labels\n",
        "trainy=to_categorical(trainy)\n",
        "testy=to_categorical(testy)"
      ],
      "metadata": {
        "id": "K-iQ93BY9qdZ"
      },
      "execution_count": 6,
      "outputs": []
    },
    {
      "cell_type": "code",
      "source": [
        "#creating the function to load the dataset\n",
        "def load_dataset():\n",
        "    (trainx,trainy),(testx,testy)=mnist.load_data()\n",
        "    trainx=trainx.reshape((trainx.shape[0],28,28,1))\n",
        "    testx=testx.reshape((testx.shape[0],28,28,1))\n",
        "    trainy=to_categorical(trainy)\n",
        "    testy=to_categorical(testy)\n",
        "    return trainx,trainy,testx,testy"
      ],
      "metadata": {
        "id": "4ukCA87v9rgD"
      },
      "execution_count": 7,
      "outputs": []
    },
    {
      "cell_type": "code",
      "source": [
        "#creating the function for the preparation of dataset\n",
        "def prep_dataset(train,test):\n",
        "    train_norm=train.astype('float32')\n",
        "    test_norm=test.astype('float32')\n",
        "    train_norm=train_norm/255.0\n",
        "    test_norm=test_norm/255.0\n",
        "    return train_norm,test_norm"
      ],
      "metadata": {
        "id": "MfOCJnXb9yBU"
      },
      "execution_count": 8,
      "outputs": []
    },
    {
      "cell_type": "code",
      "source": [
        "#creating the function to define the model\n",
        "def def_model():\n",
        "    model=Sequential()\n",
        "    model.add(Conv2D(32,(3,3),activation='relu',kernel_initializer='he_uniform',input_shape=(28,28,1)))\n",
        "    model.add(MaxPooling2D((2,2)))\n",
        "    model.add(Flatten())\n",
        "    model.add(Dense(100,activation='relu',kernel_initializer='he_uniform'))\n",
        "    model.add(Dense(10,activation='softmax'))\n",
        "    opt=SGD(lr=0.01,momentum=0.9)  #use of the stochastic grad desc\n",
        "    model.compile(optimizer=opt,loss='categorical_crossentropy',metrics=['accuracy'])\n",
        "    return model "
      ],
      "metadata": {
        "id": "duCxoCUD95qR"
      },
      "execution_count": 9,
      "outputs": []
    },
    {
      "cell_type": "code",
      "source": [
        "'''To do the evaluation we can use the k fold cross validation taking k=5 such that each test set will be approx 20%\n",
        "of the total input dataset.K=5 is chosen so as to rather not be too large or be too big to take up a lot of time'''"
      ],
      "metadata": {
        "colab": {
          "base_uri": "https://localhost:8080/",
          "height": 54
        },
        "id": "qxXX0lUF991p",
        "outputId": "faae2cb0-ceac-4004-f2a1-e94ae13b672f"
      },
      "execution_count": 10,
      "outputs": [
        {
          "output_type": "execute_result",
          "data": {
            "text/plain": [
              "'To do the evaluation we can use the k fold cross validation taking k=5 such that each test set will be approx 20%\\nof the total input dataset.K=5 is chosen so as to rather not be too large or be too big to take up a lot of time'"
            ],
            "application/vnd.google.colaboratory.intrinsic+json": {
              "type": "string"
            }
          },
          "metadata": {},
          "execution_count": 10
        }
      ]
    },
    {
      "cell_type": "code",
      "source": [
        "#function to evaluate the model\n",
        "def eval_model(datax,datay,n_folds=5):\n",
        "    scores,histories=list(),list() # for keeping the statistics that will help to analyze the results\n",
        "    kfold=KFold(n_folds,shuffle=True,random_state=1)\n",
        "    #enumerate splits\n",
        "    for train_ix,test_ix in kfold.split(datax):\n",
        "        model=def_model()\n",
        "        trainx,trainy,testx,testy=datax[train_ix],datay[train_ix],datax[test_ix],datay[test_ix]\n",
        "        history=model.fit(trainx,trainy,epochs=10,batch_size=32,validation_data=(testx,testy),verbose=0)\n",
        "        _,acc=model.evaluate(testx,testy,verbose=0)\n",
        "        print('>%.3f ' %(acc*100.0))\n",
        "        scores.append(acc)\n",
        "        histories.append(history)\n",
        "    return scores,histories"
      ],
      "metadata": {
        "id": "q7GUHsQV9_ee"
      },
      "execution_count": 11,
      "outputs": []
    },
    {
      "cell_type": "code",
      "source": [
        "#function for analysis of results\n",
        "def analyze(histories):\n",
        "    for i in range(len(histories)):\n",
        "        plt.subplot(2,1,1)\n",
        "        plt.title('Cross Entropy Loss')\n",
        "        plt.plot(histories[i].history['loss'],color='blue',label='train')\n",
        "        plt.plot(histories[i].history['val_loss'],color='orange',label='test')\n",
        "                \n",
        "        plt.subplot(2,1,2)\n",
        "        plt.title('Classification Accuracy')\n",
        "        plt.plot(histories[i].history['accuracy'],color='blue',label='train')\n",
        "        plt.plot(histories[i].history['val_accuracy'],color='orange',label='test')\n",
        "    plt.show()"
      ],
      "metadata": {
        "id": "I1EagXx--CcP"
      },
      "execution_count": 12,
      "outputs": []
    },
    {
      "cell_type": "code",
      "source": [
        "#summarizing the performance\n",
        "def summary(scores):\n",
        "    print(\"accuracy: mean=%.3f std=%.3f,n=%d\" %(np.mean(scores)*100,np.std(scores)*100,len(scores)))\n",
        "    plt.boxplot(scores)\n",
        "    plt.show()"
      ],
      "metadata": {
        "id": "MoXQoGaA-GGY"
      },
      "execution_count": 13,
      "outputs": []
    },
    {
      "cell_type": "code",
      "source": [
        "#finalizing by calling all the functions\n",
        "def run():\n",
        "    trainx,trainy,testx,testy=load_dataset()\n",
        "    trainx,testx=prep_dataset(trainx,testx)\n",
        "    scores,histories=eval_model(trainx,trainy)\n",
        "    analyze(histories)\n",
        "    summary(scores)"
      ],
      "metadata": {
        "id": "NG9kL-HZ-LwI"
      },
      "execution_count": 14,
      "outputs": []
    },
    {
      "cell_type": "code",
      "source": [
        "run()"
      ],
      "metadata": {
        "colab": {
          "base_uri": "https://localhost:8080/",
          "height": 770
        },
        "id": "vUct61Cn-P0j",
        "outputId": "78041b04-f7c7-4b1f-aba3-c832e2d48dc8"
      },
      "execution_count": 15,
      "outputs": [
        {
          "output_type": "stream",
          "name": "stderr",
          "text": [
            "/usr/local/lib/python3.7/dist-packages/keras/optimizer_v2/gradient_descent.py:102: UserWarning: The `lr` argument is deprecated, use `learning_rate` instead.\n",
            "  super(SGD, self).__init__(name, **kwargs)\n"
          ]
        },
        {
          "output_type": "stream",
          "name": "stdout",
          "text": [
            ">98.617 \n",
            ">98.508 \n",
            ">98.500 \n",
            ">98.858 \n",
            ">98.883 \n"
          ]
        },
        {
          "output_type": "stream",
          "name": "stderr",
          "text": [
            "/usr/local/lib/python3.7/dist-packages/ipykernel_launcher.py:4: MatplotlibDeprecationWarning: Adding an axes using the same arguments as a previous axes currently reuses the earlier instance.  In a future version, a new instance will always be created and returned.  Meanwhile, this warning can be suppressed, and the future behavior ensured, by passing a unique label to each axes instance.\n",
            "  after removing the cwd from sys.path.\n",
            "/usr/local/lib/python3.7/dist-packages/ipykernel_launcher.py:9: MatplotlibDeprecationWarning: Adding an axes using the same arguments as a previous axes currently reuses the earlier instance.  In a future version, a new instance will always be created and returned.  Meanwhile, this warning can be suppressed, and the future behavior ensured, by passing a unique label to each axes instance.\n",
            "  if __name__ == '__main__':\n"
          ]
        },
        {
          "output_type": "display_data",
          "data": {
            "text/plain": [
              "<Figure size 432x288 with 2 Axes>"
            ],
            "image/png": "[encoded data removed]"
          },
          "metadata": {
            "needs_background": "light"
          }
        },
        {
          "output_type": "stream",
          "name": "stdout",
          "text": [
            "accuracy: mean=98.673 std=0.167,n=5\n"
          ]
        },
        {
          "output_type": "display_data",
          "data": {
            "text/plain": [
              "<Figure size 432x288 with 1 Axes>"
            ],
            "image/png": "[encoded data removed]"
          },
          "metadata": {
            "needs_background": "light"
          }
        }
      ]
    }
  ]
}